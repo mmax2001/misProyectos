{
 "cells": [
  {
   "cell_type": "code",
   "execution_count": 1,
   "metadata": {},
   "outputs": [],
   "source": [
    "import pyspark\n",
    "\n",
    "try: \n",
    "    type(sc)\n",
    "except NameError:\n",
    "    sc = pyspark.SparkContext('local[*]')"
   ]
  },
  {
   "cell_type": "code",
   "execution_count": 20,
   "metadata": {},
   "outputs": [],
   "source": [
    "#RDD1 registros de ventas de producto con la forma (fecha de venta, código de producto, precio de venta)\n",
    "#RDD2 detalle de los productos con (código de producto,descripción del producto, categoría)\n",
    "\n",
    "registro_ventas = [\n",
    "    ('20160101', 10,100),\n",
    "    ('20160202', 20,200),\n",
    "    ('20160402', 15,150),\n",
    "    ('20160405', 20,200),\n",
    "    ('20160410', 25,200),\n",
    "    ('20160415', 15,150),\n",
    "    ('20160420', 40,400),\n",
    "    ('20160505', 80,500),\n",
    "    ('20160507', 80,500),\n",
    "    ('20161005', 80,500),\n",
    "    ('20161130', 80,500),\n",
    "    ('20170105', 80,600),\n",
    "    ('20170101', 10,100),\n",
    "    ('20170202', 20,200),\n",
    "    ('20170402', 15,150),\n",
    "    ('20170405', 20,200),\n",
    "    ('20170410', 25,250),\n",
    "    ('20170415', 15,150),\n",
    "    ('20170420', 40,400),\n",
    "    ('20170505', 80,800),\n",
    "    ('20170511', 80,800),\n",
    "    ('20170517', 80,800),\n",
    "    ('20170522', 80,800),\n",
    "    ('20170525', 80,800),\n",
    "    ('20171205', 80,800),\n",
    "]\n",
    "\n",
    "registro_detalle_prod = [\n",
    "    ( 10,'PackGalletitas','comestibles_almacen'),\n",
    "    ( 15,'AlgodonFamiliar','higiene_limpieza'),\n",
    "    ( 20,'PapelHigienico','higiene_limpieza'),\n",
    "    ( 25,'PastaAvellanas','comestibles_almacen'),\n",
    "    ( 40,'Milanesas','comestibles_carniceria'),\n",
    "    ( 80,'PolvoLavarropasFamiliar','higiene_limpieza')\n",
    "]"
   ]
  },
  {
   "cell_type": "code",
   "execution_count": 21,
   "metadata": {},
   "outputs": [],
   "source": [
    "data = sc.parallelize(registro_ventas);\n",
    "data0 = sc.parallelize(registro_detalle_prod)"
   ]
  },
  {
   "cell_type": "code",
   "execution_count": 22,
   "metadata": {},
   "outputs": [
    {
     "data": {
      "text/plain": [
       "[(10, 1),\n",
       " (20, 1),\n",
       " (15, 1),\n",
       " (20, 1),\n",
       " (25, 1),\n",
       " (15, 1),\n",
       " (40, 1),\n",
       " (80, 1),\n",
       " (80, 1),\n",
       " (80, 1),\n",
       " (80, 1),\n",
       " (80, 1),\n",
       " (10, 1),\n",
       " (20, 1),\n",
       " (15, 1),\n",
       " (20, 1),\n",
       " (25, 1),\n",
       " (15, 1),\n",
       " (40, 1),\n",
       " (80, 1),\n",
       " (80, 1),\n",
       " (80, 1),\n",
       " (80, 1),\n",
       " (80, 1),\n",
       " (80, 1)]"
      ]
     },
     "execution_count": 22,
     "metadata": {},
     "output_type": "execute_result"
    }
   ],
   "source": [
    "#Genero un RDD con codigo de producto y un 1 para cada venta (clave,valor)\n",
    "data1=data.map(lambda x: (x[1],1))\n",
    "data1.collect()"
   ]
  },
  {
   "cell_type": "code",
   "execution_count": 23,
   "metadata": {},
   "outputs": [
    {
     "data": {
      "text/plain": [
       "pyspark.rdd.PipelinedRDD"
      ]
     },
     "execution_count": 23,
     "metadata": {},
     "output_type": "execute_result"
    }
   ],
   "source": [
    "#data1 es un RDD\n",
    "type(data1)"
   ]
  },
  {
   "cell_type": "code",
   "execution_count": 24,
   "metadata": {},
   "outputs": [
    {
     "data": {
      "text/plain": [
       "list"
      ]
     },
     "execution_count": 24,
     "metadata": {},
     "output_type": "execute_result"
    }
   ],
   "source": [
    "#Una vez que a data1 le hago un collect() obtengo una lista\n",
    "data3=data1.collect()\n",
    "type(data3)"
   ]
  },
  {
   "cell_type": "code",
   "execution_count": 25,
   "metadata": {},
   "outputs": [
    {
     "data": {
      "text/plain": [
       "(80, 11)"
      ]
     },
     "execution_count": 25,
     "metadata": {},
     "output_type": "execute_result"
    }
   ],
   "source": [
    "#Sumo todos los 1`s para cada codigo de producto,obtengo el mas vendido con un reduceByKey\n",
    "#y luego con un reduce busco el valor mayor obteniendo el producto mas vendido\n",
    "data2=data1.reduceByKey(lambda x, y: (x+y)).map(lambda x: (x[1],x[0])).reduce(lambda x ,y : x if x > y else y )\n",
    "data2=(data2[1],data2[0])\n",
    "data2"
   ]
  },
  {
   "cell_type": "code",
   "execution_count": 34,
   "metadata": {},
   "outputs": [
    {
     "data": {
      "text/plain": [
       "(80, 11)"
      ]
     },
     "execution_count": 34,
     "metadata": {},
     "output_type": "execute_result"
    }
   ],
   "source": [
    "#Version mas breve para obtener el producto mas vendido\n",
    "data2b=data1.reduceByKey(lambda x, y: (x+y)).reduce(lambda x ,y : x if x[1] > y[1] else y )\n",
    "data2b"
   ]
  },
  {
   "cell_type": "code",
   "execution_count": 26,
   "metadata": {},
   "outputs": [
    {
     "data": {
      "text/plain": [
       "[(80, 'PolvoLavarropasFamiliar', 'higiene_limpieza')]"
      ]
     },
     "execution_count": 26,
     "metadata": {},
     "output_type": "execute_result"
    }
   ],
   "source": [
    "#Filtro el RDD con detalles de productos para obtener cual es el prod. mas vendido\n",
    "data0.filter(lambda x:(x[0] == data2[0])).collect()\n",
    "#esto me da un RDD"
   ]
  },
  {
   "cell_type": "code",
   "execution_count": 27,
   "metadata": {},
   "outputs": [
    {
     "data": {
      "text/plain": [
       "'PolvoLavarropasFamiliar'"
      ]
     },
     "execution_count": 27,
     "metadata": {},
     "output_type": "execute_result"
    }
   ],
   "source": [
    "#Rta.A el producto mas vendido \n",
    "dataProd=data0.filter(lambda x:(x[0] == data2[0])).collect()\n",
    "dataProd[0][1]"
   ]
  },
  {
   "cell_type": "code",
   "execution_count": 28,
   "metadata": {},
   "outputs": [
    {
     "data": {
      "text/plain": [
       "[(10, 'comestibles_almacen'),\n",
       " (15, 'higiene_limpieza'),\n",
       " (20, 'higiene_limpieza'),\n",
       " (25, 'comestibles_almacen'),\n",
       " (40, 'comestibles_carniceria'),\n",
       " (80, 'higiene_limpieza')]"
      ]
     },
     "execution_count": 28,
     "metadata": {},
     "output_type": "execute_result"
    }
   ],
   "source": [
    "data0b=data0.map(lambda x: (x[0],x[2]))\n",
    "data0b.collect()"
   ]
  },
  {
   "cell_type": "code",
   "execution_count": 29,
   "metadata": {},
   "outputs": [
    {
     "name": "stdout",
     "output_type": "stream",
     "text": [
      "PythonRDD[58] at RDD at PythonRDD.scala:52\n"
     ]
    }
   ],
   "source": [
    "data1B=data1.join(data0b)\n",
    "print(data1B)"
   ]
  },
  {
   "cell_type": "code",
   "execution_count": 30,
   "metadata": {},
   "outputs": [
    {
     "data": {
      "text/plain": [
       "[(40, (1, 'comestibles_carniceria')),\n",
       " (40, (1, 'comestibles_carniceria')),\n",
       " (80, (1, 'higiene_limpieza')),\n",
       " (80, (1, 'higiene_limpieza')),\n",
       " (80, (1, 'higiene_limpieza')),\n",
       " (80, (1, 'higiene_limpieza')),\n",
       " (80, (1, 'higiene_limpieza')),\n",
       " (80, (1, 'higiene_limpieza')),\n",
       " (80, (1, 'higiene_limpieza')),\n",
       " (80, (1, 'higiene_limpieza')),\n",
       " (80, (1, 'higiene_limpieza')),\n",
       " (80, (1, 'higiene_limpieza')),\n",
       " (80, (1, 'higiene_limpieza')),\n",
       " (25, (1, 'comestibles_almacen')),\n",
       " (25, (1, 'comestibles_almacen')),\n",
       " (10, (1, 'comestibles_almacen')),\n",
       " (10, (1, 'comestibles_almacen')),\n",
       " (20, (1, 'higiene_limpieza')),\n",
       " (20, (1, 'higiene_limpieza')),\n",
       " (20, (1, 'higiene_limpieza')),\n",
       " (20, (1, 'higiene_limpieza')),\n",
       " (15, (1, 'higiene_limpieza')),\n",
       " (15, (1, 'higiene_limpieza')),\n",
       " (15, (1, 'higiene_limpieza')),\n",
       " (15, (1, 'higiene_limpieza'))]"
      ]
     },
     "execution_count": 30,
     "metadata": {},
     "output_type": "execute_result"
    }
   ],
   "source": [
    "data1B.collect()"
   ]
  },
  {
   "cell_type": "code",
   "execution_count": 31,
   "metadata": {},
   "outputs": [
    {
     "data": {
      "text/plain": [
       "[('comestibles_carniceria', 1),\n",
       " ('comestibles_carniceria', 1),\n",
       " ('higiene_limpieza', 1),\n",
       " ('higiene_limpieza', 1),\n",
       " ('higiene_limpieza', 1),\n",
       " ('higiene_limpieza', 1),\n",
       " ('higiene_limpieza', 1),\n",
       " ('higiene_limpieza', 1),\n",
       " ('higiene_limpieza', 1),\n",
       " ('higiene_limpieza', 1),\n",
       " ('higiene_limpieza', 1),\n",
       " ('higiene_limpieza', 1),\n",
       " ('higiene_limpieza', 1),\n",
       " ('comestibles_almacen', 1),\n",
       " ('comestibles_almacen', 1),\n",
       " ('comestibles_almacen', 1),\n",
       " ('comestibles_almacen', 1),\n",
       " ('higiene_limpieza', 1),\n",
       " ('higiene_limpieza', 1),\n",
       " ('higiene_limpieza', 1),\n",
       " ('higiene_limpieza', 1),\n",
       " ('higiene_limpieza', 1),\n",
       " ('higiene_limpieza', 1),\n",
       " ('higiene_limpieza', 1),\n",
       " ('higiene_limpieza', 1)]"
      ]
     },
     "execution_count": 31,
     "metadata": {},
     "output_type": "execute_result"
    }
   ],
   "source": [
    "data1B2=data1B.map(lambda x: (x[1][1],x[1][0]))\n",
    "data1B2.collect()"
   ]
  },
  {
   "cell_type": "code",
   "execution_count": 35,
   "metadata": {},
   "outputs": [
    {
     "data": {
      "text/plain": [
       "('higiene_limpieza', 19)"
      ]
     },
     "execution_count": 35,
     "metadata": {},
     "output_type": "execute_result"
    }
   ],
   "source": [
    "data1B3=data1B2.reduceByKey(lambda x, y: (x+y)).reduce(lambda x ,y : x if x[1] > y[1] else y )\n",
    "data1B3"
   ]
  },
  {
   "cell_type": "code",
   "execution_count": 33,
   "metadata": {},
   "outputs": [
    {
     "data": {
      "text/plain": [
       "'higiene_limpieza'"
      ]
     },
     "execution_count": 33,
     "metadata": {},
     "output_type": "execute_result"
    }
   ],
   "source": [
    "#Rta.B la categoria mas vendida\n",
    "data1B3[0]"
   ]
  },
  {
   "cell_type": "code",
   "execution_count": 150,
   "metadata": {},
   "outputs": [
    {
     "name": "stdout",
     "output_type": "stream",
     "text": [
      "[(20, 4), (40, 2), (80, 10), (25, 2), (10, 2), (15, 4)]\n"
     ]
    }
   ],
   "source": [
    "dataTop5=data1.reduceByKey(lambda x, y: (x+y)).collect()\n",
    "print(dataTop5)"
   ]
  },
  {
   "cell_type": "code",
   "execution_count": 159,
   "metadata": {},
   "outputs": [
    {
     "data": {
      "text/plain": [
       "[(80, 10), (15, 4), (20, 4), (10, 2), (25, 2), (40, 2)]"
      ]
     },
     "execution_count": 159,
     "metadata": {},
     "output_type": "execute_result"
    }
   ],
   "source": [
    "def getValue(item):   \n",
    "    return item[1]\n",
    "resultadoFinal=sorted(dataTop5, key=getValue)\n",
    "resultadoFinal.reverse()\n",
    "resultadoFinal\n",
    "# O sino con resultadoFinal[-5::] obtengo un top 5 en orden ascendente ,habria que invertir la lista con reverse() notar\n",
    "# que lleva -5 y dos \"::\" el 2do \":\" o \":\" de la derecha es para tomar todos los items desde el ultimo y el -5 para llegar\n",
    "# hasta esa posicion\n"
   ]
  },
  {
   "cell_type": "code",
   "execution_count": 160,
   "metadata": {},
   "outputs": [],
   "source": [
    "data0c = sc.parallelize(resultadoFinal)"
   ]
  },
  {
   "cell_type": "code",
   "execution_count": 161,
   "metadata": {},
   "outputs": [
    {
     "data": {
      "text/plain": [
       "[(80, (10, 'PolvoLavarropasFamiliar')),\n",
       " (40, (2, 'Milanesas')),\n",
       " (25, (2, 'PastaAvellanas')),\n",
       " (10, (2, 'PackGalletitas')),\n",
       " (20, (4, 'PapelHigienico')),\n",
       " (15, (4, 'AlgodonFamiliar'))]"
      ]
     },
     "execution_count": 161,
     "metadata": {},
     "output_type": "execute_result"
    }
   ],
   "source": [
    "#Rta.C RDD top 5 con codigo de producto, cantidad de ventas y descripcion\n",
    "dataTop5b=data0c.rightOuterJoin(data0).collect()\n",
    "dataTop5b"
   ]
  },
  {
   "cell_type": "code",
   "execution_count": 163,
   "metadata": {},
   "outputs": [
    {
     "data": {
      "text/plain": [
       "[(80, (10, 'PolvoLavarropasFamiliar')),\n",
       " (15, (4, 'AlgodonFamiliar')),\n",
       " (20, (4, 'PapelHigienico')),\n",
       " (10, (2, 'PackGalletitas')),\n",
       " (25, (2, 'PastaAvellanas')),\n",
       " (40, (2, 'Milanesas'))]"
      ]
     },
     "execution_count": 163,
     "metadata": {},
     "output_type": "execute_result"
    }
   ],
   "source": [
    "#ordeno el RDD con el top 5\n",
    "def getValue2(item):   \n",
    "    return item[1][0]\n",
    "resultadoFinal2=sorted(dataTop5b, key=getValue2)\n",
    "resultadoFinal2.reverse()\n",
    "resultadoFinal2"
   ]
  },
  {
   "cell_type": "code",
   "execution_count": 10,
   "metadata": {},
   "outputs": [],
   "source": [
    "#Busco los productos que tuvieron 50 ventas como minimo durante el ultimo año\n",
    "#A fines practicos tomo aquellos que tuvieron mas de 2 ventas el ultimo año\n",
    "dataD=data.filter(lambda x: (x[0] >='20170101'))"
   ]
  },
  {
   "cell_type": "code",
   "execution_count": 63,
   "metadata": {},
   "outputs": [
    {
     "data": {
      "text/plain": [
       "[('20170105', 80, 600),\n",
       " ('20170101', 10, 100),\n",
       " ('20170202', 20, 200),\n",
       " ('20170402', 15, 150),\n",
       " ('20170405', 20, 200),\n",
       " ('20170410', 25, 250),\n",
       " ('20170415', 15, 150),\n",
       " ('20170420', 40, 400),\n",
       " ('20170505', 80, 800),\n",
       " ('20170511', 80, 800),\n",
       " ('20170517', 80, 800),\n",
       " ('20170522', 80, 800),\n",
       " ('20170525', 80, 800),\n",
       " ('20171205', 80, 800)]"
      ]
     },
     "execution_count": 63,
     "metadata": {},
     "output_type": "execute_result"
    }
   ],
   "source": [
    "dataD.collect()"
   ]
  },
  {
   "cell_type": "code",
   "execution_count": 102,
   "metadata": {},
   "outputs": [
    {
     "data": {
      "text/plain": [
       "[(80, (600, '20170105')),\n",
       " (10, (100, '20170101')),\n",
       " (20, (200, '20170202')),\n",
       " (15, (150, '20170402')),\n",
       " (20, (200, '20170405')),\n",
       " (25, (250, '20170410')),\n",
       " (15, (150, '20170415')),\n",
       " (40, (400, '20170420')),\n",
       " (80, (800, '20170505')),\n",
       " (80, (800, '20170511')),\n",
       " (80, (800, '20170517')),\n",
       " (80, (800, '20170522')),\n",
       " (80, (800, '20170525')),\n",
       " (80, (800, '20171205'))]"
      ]
     },
     "execution_count": 102,
     "metadata": {},
     "output_type": "execute_result"
    }
   ],
   "source": [
    "#Ordeno los campos del RDD para dejar como clave el codigo de producto\n",
    "dataD3=dataD.map(lambda x: (x[1],(x[2],x[0])))\n",
    "dataD3.collect()"
   ]
  },
  {
   "cell_type": "code",
   "execution_count": 82,
   "metadata": {},
   "outputs": [
    {
     "data": {
      "text/plain": [
       "[(80, 1),\n",
       " (10, 1),\n",
       " (20, 1),\n",
       " (15, 1),\n",
       " (20, 1),\n",
       " (25, 1),\n",
       " (15, 1),\n",
       " (40, 1),\n",
       " (80, 1),\n",
       " (80, 1),\n",
       " (80, 1),\n",
       " (80, 1),\n",
       " (80, 1),\n",
       " (80, 1)]"
      ]
     },
     "execution_count": 82,
     "metadata": {},
     "output_type": "execute_result"
    }
   ],
   "source": [
    "#Armo un RDD para obtener cuantos productos por codigo se vendieron y luego filtrar por cantidad\n",
    "#vendida durante el ultimo año (se pide 50 tomo 2 por comodidad)\n",
    "dataD1=dataD.map(lambda x: (x[1],1))\n",
    "dataD1.collect()"
   ]
  },
  {
   "cell_type": "code",
   "execution_count": 73,
   "metadata": {},
   "outputs": [
    {
     "data": {
      "text/plain": [
       "pyspark.rdd.PipelinedRDD"
      ]
     },
     "execution_count": 73,
     "metadata": {},
     "output_type": "execute_result"
    }
   ],
   "source": [
    "type(dataD1)"
   ]
  },
  {
   "cell_type": "code",
   "execution_count": 83,
   "metadata": {},
   "outputs": [],
   "source": [
    "#Me quedo con solo aquellos que tuvieron mas de 2 ventas el ultimo año (2017)\n",
    "dataD2=dataD1.reduceByKey(lambda x, y : (x+y)).filter(lambda x:(x[1] >= 2))"
   ]
  },
  {
   "cell_type": "code",
   "execution_count": 84,
   "metadata": {},
   "outputs": [
    {
     "data": {
      "text/plain": [
       "[(80, 7), (20, 2), (15, 2)]"
      ]
     },
     "execution_count": 84,
     "metadata": {},
     "output_type": "execute_result"
    }
   ],
   "source": [
    "dataD2.collect()"
   ]
  },
  {
   "cell_type": "code",
   "execution_count": 94,
   "metadata": {},
   "outputs": [
    {
     "data": {
      "text/plain": [
       "[80, 20, 15]"
      ]
     },
     "execution_count": 94,
     "metadata": {},
     "output_type": "execute_result"
    }
   ],
   "source": [
    "#Lista de productos con mas de 2 unidades vendidas el ultimo año\n",
    "dataD2b=dataD2.map(lambda x: (x[0]))\n",
    "lista=dataD2b.collect()\n",
    "lista"
   ]
  },
  {
   "cell_type": "code",
   "execution_count": 105,
   "metadata": {},
   "outputs": [],
   "source": [
    "#Uno los RDD's con los productos correspondientes al ultimo año(2017) y aquellos productos que se vendieron\n",
    "#en mas de 50 unidades (2 en este caso a fines practicos)\n",
    "dataD4=dataD3.rightOuterJoin(dataD2)"
   ]
  },
  {
   "cell_type": "code",
   "execution_count": 106,
   "metadata": {},
   "outputs": [
    {
     "data": {
      "text/plain": [
       "[(80, ((600, '20170105'), 7)),\n",
       " (80, ((800, '20170505'), 7)),\n",
       " (80, ((800, '20170511'), 7)),\n",
       " (80, ((800, '20170517'), 7)),\n",
       " (80, ((800, '20170522'), 7)),\n",
       " (80, ((800, '20170525'), 7)),\n",
       " (80, ((800, '20171205'), 7)),\n",
       " (20, ((200, '20170202'), 2)),\n",
       " (20, ((200, '20170405'), 2)),\n",
       " (15, ((150, '20170402'), 2)),\n",
       " (15, ((150, '20170415'), 2))]"
      ]
     },
     "execution_count": 106,
     "metadata": {},
     "output_type": "execute_result"
    }
   ],
   "source": [
    "dataD4.collect()"
   ]
  },
  {
   "cell_type": "code",
   "execution_count": 120,
   "metadata": {},
   "outputs": [
    {
     "data": {
      "text/plain": [
       "[(80, 7, 600, '20170105'),\n",
       " (80, 7, 800, '20170505'),\n",
       " (80, 7, 800, '20170511'),\n",
       " (80, 7, 800, '20170517'),\n",
       " (80, 7, 800, '20170522'),\n",
       " (80, 7, 800, '20170525'),\n",
       " (80, 7, 800, '20171205'),\n",
       " (20, 2, 200, '20170202'),\n",
       " (20, 2, 200, '20170405'),\n",
       " (15, 2, 150, '20170402'),\n",
       " (15, 2, 150, '20170415')]"
      ]
     },
     "execution_count": 120,
     "metadata": {},
     "output_type": "execute_result"
    }
   ],
   "source": [
    "#Arreglo el RDD quitando las tuplas internas\n",
    "listaD=dataD4.map(lambda x: (x[0],x[1][1],x[1][0][0],x[1][0][1]))\n",
    "listaD.collect()"
   ]
  },
  {
   "cell_type": "code",
   "execution_count": 119,
   "metadata": {},
   "outputs": [
    {
     "data": {
      "text/plain": [
       "[(80, 7, 600, '20170105'), (80, 7, 800, '20171205')]"
      ]
     },
     "execution_count": 119,
     "metadata": {},
     "output_type": "execute_result"
    }
   ],
   "source": [
    "#Una forma de obtener el primer registro de venta durante el ultimo año y el ultimo seria asi:\n",
    "prueba=[listaD[0],listaD[listaD[0][1]-1]]\n",
    "prueba"
   ]
  },
  {
   "cell_type": "code",
   "execution_count": 125,
   "metadata": {},
   "outputs": [
    {
     "data": {
      "text/plain": [
       "[(80, 7, 600, '20170105'),\n",
       " (80, 7, 800, '20170505'),\n",
       " (80, 7, 800, '20170511'),\n",
       " (80, 7, 800, '20170517'),\n",
       " (80, 7, 800, '20170522'),\n",
       " (80, 7, 800, '20170525'),\n",
       " (80, 7, 800, '20171205')]"
      ]
     },
     "execution_count": 125,
     "metadata": {},
     "output_type": "execute_result"
    }
   ],
   "source": [
    "#Otra forma seria la siguiente:\n",
    "#Me quedo con el primer producto de la lista\n",
    "#Idem para los demas productos de la lista obtenida con los productos con mas de 2 ventas durante el ultimo año\n",
    "listaD.filter(lambda x:x[0]==lista[0]).collect()"
   ]
  },
  {
   "cell_type": "code",
   "execution_count": 126,
   "metadata": {},
   "outputs": [
    {
     "data": {
      "text/plain": [
       "(80, 7, 600, '20170105')"
      ]
     },
     "execution_count": 126,
     "metadata": {},
     "output_type": "execute_result"
    }
   ],
   "source": [
    "#Filtro la lista obteniendo el primer registo correspondiente al ultimo año\n",
    "prod1=listaD.filter(lambda x:x[0]==lista[0]).first()\n",
    "prod1"
   ]
  },
  {
   "cell_type": "code",
   "execution_count": 135,
   "metadata": {},
   "outputs": [
    {
     "data": {
      "text/plain": [
       "tuple"
      ]
     },
     "execution_count": 135,
     "metadata": {},
     "output_type": "execute_result"
    }
   ],
   "source": [
    "type(prod1)"
   ]
  },
  {
   "cell_type": "code",
   "execution_count": 132,
   "metadata": {},
   "outputs": [
    {
     "data": {
      "text/plain": [
       "[(80, 7, 800, '20171205')]"
      ]
     },
     "execution_count": 132,
     "metadata": {},
     "output_type": "execute_result"
    }
   ],
   "source": [
    "#Filtro la lista obteniendo el ultimo registo correspondiente al ultimo año\n",
    "prod1f=listaD.filter(lambda x:x[0]==lista[0]).top(1)\n",
    "prod1f"
   ]
  },
  {
   "cell_type": "code",
   "execution_count": 138,
   "metadata": {},
   "outputs": [
    {
     "data": {
      "text/plain": [
       "list"
      ]
     },
     "execution_count": 138,
     "metadata": {},
     "output_type": "execute_result"
    }
   ],
   "source": [
    "type(prod1f)"
   ]
  },
  {
   "cell_type": "code",
   "execution_count": 139,
   "metadata": {},
   "outputs": [
    {
     "data": {
      "text/plain": [
       "200"
      ]
     },
     "execution_count": 139,
     "metadata": {},
     "output_type": "execute_result"
    }
   ],
   "source": [
    "#Obtengo la variacion de precio durante el ultimo año,restando los registros\n",
    "variacionProd1=prod1f[0][2]-prod1[2]\n",
    "variacionProd1"
   ]
  },
  {
   "cell_type": "code",
   "execution_count": null,
   "metadata": {},
   "outputs": [],
   "source": []
  },
  {
   "cell_type": "code",
   "execution_count": null,
   "metadata": {},
   "outputs": [],
   "source": [
    "#Codigos de pruebas:"
   ]
  },
  {
   "cell_type": "code",
   "execution_count": 123,
   "metadata": {},
   "outputs": [],
   "source": [
    "prod2=listaD.filter(lambda x:x[0]==lista[1]).collect()"
   ]
  },
  {
   "cell_type": "code",
   "execution_count": null,
   "metadata": {},
   "outputs": [],
   "source": [
    "data0.map(lambda x: (x[0]==resultadoFinal[0][0],resultadoFinal[0][1],x[1],x[2])).collect()"
   ]
  },
  {
   "cell_type": "code",
   "execution_count": 94,
   "metadata": {},
   "outputs": [
    {
     "data": {
      "text/plain": [
       "list"
      ]
     },
     "execution_count": 94,
     "metadata": {},
     "output_type": "execute_result"
    }
   ],
   "source": [
    "type(resultadoFinal)"
   ]
  },
  {
   "cell_type": "code",
   "execution_count": 97,
   "metadata": {},
   "outputs": [
    {
     "data": {
      "text/plain": [
       "[(10, 2), (15, 4), (20, 4), (25, 2), (40, 2)]"
      ]
     },
     "execution_count": 97,
     "metadata": {},
     "output_type": "execute_result"
    }
   ],
   "source": [
    "data1.reduceByKey(lambda x, y: (x+y)).takeOrdered(5)"
   ]
  },
  {
   "cell_type": "code",
   "execution_count": 106,
   "metadata": {},
   "outputs": [
    {
     "data": {
      "text/plain": [
       "[(10, 100),\n",
       " (20, 200),\n",
       " (15, 150),\n",
       " (20, 200),\n",
       " (25, 200),\n",
       " (15, 150),\n",
       " (40, 400),\n",
       " (80, 500),\n",
       " (80, 500),\n",
       " (80, 500),\n",
       " (80, 500),\n",
       " (10, 100),\n",
       " (20, 200),\n",
       " (15, 150),\n",
       " (20, 200),\n",
       " (25, 250),\n",
       " (15, 150),\n",
       " (40, 400),\n",
       " (80, 800),\n",
       " (80, 800),\n",
       " (80, 800),\n",
       " (80, 800),\n",
       " (80, 800),\n",
       " (80, 800)]"
      ]
     },
     "execution_count": 106,
     "metadata": {},
     "output_type": "execute_result"
    }
   ],
   "source": [
    "dataB=data.map(lambda x: (x[1],x[2]))\n",
    "dataB.collect()"
   ]
  },
  {
   "cell_type": "code",
   "execution_count": 109,
   "metadata": {},
   "outputs": [
    {
     "data": {
      "text/plain": [
       "[(40, (400, 'Milanesas')),\n",
       " (40, (400, 'Milanesas')),\n",
       " (80, (500, 'PolvoLavarropasFamiliar')),\n",
       " (80, (500, 'PolvoLavarropasFamiliar')),\n",
       " (80, (500, 'PolvoLavarropasFamiliar')),\n",
       " (80, (500, 'PolvoLavarropasFamiliar')),\n",
       " (80, (800, 'PolvoLavarropasFamiliar')),\n",
       " (80, (800, 'PolvoLavarropasFamiliar')),\n",
       " (80, (800, 'PolvoLavarropasFamiliar')),\n",
       " (80, (800, 'PolvoLavarropasFamiliar')),\n",
       " (80, (800, 'PolvoLavarropasFamiliar')),\n",
       " (80, (800, 'PolvoLavarropasFamiliar')),\n",
       " (25, (200, 'PastaAvellanas')),\n",
       " (25, (250, 'PastaAvellanas')),\n",
       " (10, (100, 'PackGalletitas')),\n",
       " (10, (100, 'PackGalletitas')),\n",
       " (20, (200, 'PapelHigienico')),\n",
       " (20, (200, 'PapelHigienico')),\n",
       " (20, (200, 'PapelHigienico')),\n",
       " (20, (200, 'PapelHigienico')),\n",
       " (15, (150, 'AlgodonFamiliar')),\n",
       " (15, (150, 'AlgodonFamiliar')),\n",
       " (15, (150, 'AlgodonFamiliar')),\n",
       " (15, (150, 'AlgodonFamiliar'))]"
      ]
     },
     "execution_count": 109,
     "metadata": {},
     "output_type": "execute_result"
    }
   ],
   "source": [
    "dataB.fullOuterJoin(data0).collect()"
   ]
  },
  {
   "cell_type": "code",
   "execution_count": 32,
   "metadata": {},
   "outputs": [],
   "source": []
  },
  {
   "cell_type": "code",
   "execution_count": null,
   "metadata": {},
   "outputs": [],
   "source": []
  },
  {
   "cell_type": "code",
   "execution_count": null,
   "metadata": {},
   "outputs": [],
   "source": []
  }
 ],
 "metadata": {
  "kernelspec": {
   "display_name": "Python 3",
   "language": "python",
   "name": "python3"
  },
  "language_info": {
   "codemirror_mode": {
    "name": "ipython",
    "version": 3
   },
   "file_extension": ".py",
   "mimetype": "text/x-python",
   "name": "python",
   "nbconvert_exporter": "python",
   "pygments_lexer": "ipython3",
   "version": "3.7.1"
  }
 },
 "nbformat": 4,
 "nbformat_minor": 2
}
