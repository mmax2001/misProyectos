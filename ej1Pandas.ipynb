{
 "cells": [
  {
   "cell_type": "code",
   "execution_count": 91,
   "metadata": {},
   "outputs": [],
   "source": [
    "# magic function para hacer que los graficos de matplotlib se renderizen en el notebook.\n",
    "%matplotlib notebook\n",
    "\n",
    "import datetime as datetime\n",
    "import pandas as pd\n",
    "import numpy as np\n",
    "import matplotlib.pyplot as plt\n",
    "\n",
    "plt.style.use('default') # Make the graphs a bit prettier\n",
    "plt.rcParams['figure.figsize'] = (15, 5)"
   ]
  },
  {
   "cell_type": "code",
   "execution_count": 178,
   "metadata": {},
   "outputs": [],
   "source": [
    "person_data = {\n",
    "        'padron': ['95001', '95002', '95003', '95001', '95005','95005','95005','95005'],\n",
    "        'materia': ['Analisis_Matematico', 'Algebra', 'Algoritmos_1', 'Algoritmos_2', 'Orga_Datos','Orga_Computador','Mat_Discreta','Medios'],\n",
    "        'nota': ['9', '8', '7', '7', '8','6','10','2'],\n",
    "        'fecha': ['01-08-2017', '02-04-2016', '30-08-2019', '04-05-2018', '25-11-2019','25-04-2019','12-12-2019','10-10-2019'],\n",
    "}\n",
    "\n",
    "df_a = pd.DataFrame(person_data, columns = ['padron', 'materia','nota','fecha'])"
   ]
  },
  {
   "cell_type": "code",
   "execution_count": 179,
   "metadata": {},
   "outputs": [
    {
     "data": {
      "text/html": [
       "<div>\n",
       "<style scoped>\n",
       "    .dataframe tbody tr th:only-of-type {\n",
       "        vertical-align: middle;\n",
       "    }\n",
       "\n",
       "    .dataframe tbody tr th {\n",
       "        vertical-align: top;\n",
       "    }\n",
       "\n",
       "    .dataframe thead th {\n",
       "        text-align: right;\n",
       "    }\n",
       "</style>\n",
       "<table border=\"1\" class=\"dataframe\">\n",
       "  <thead>\n",
       "    <tr style=\"text-align: right;\">\n",
       "      <th></th>\n",
       "      <th>padron</th>\n",
       "      <th>materia</th>\n",
       "      <th>nota</th>\n",
       "      <th>fecha</th>\n",
       "    </tr>\n",
       "  </thead>\n",
       "  <tbody>\n",
       "    <tr>\n",
       "      <th>0</th>\n",
       "      <td>95001</td>\n",
       "      <td>Analisis_Matematico</td>\n",
       "      <td>9</td>\n",
       "      <td>01-08-2017</td>\n",
       "    </tr>\n",
       "    <tr>\n",
       "      <th>1</th>\n",
       "      <td>95002</td>\n",
       "      <td>Algebra</td>\n",
       "      <td>8</td>\n",
       "      <td>02-04-2016</td>\n",
       "    </tr>\n",
       "    <tr>\n",
       "      <th>2</th>\n",
       "      <td>95003</td>\n",
       "      <td>Algoritmos_1</td>\n",
       "      <td>7</td>\n",
       "      <td>30-08-2019</td>\n",
       "    </tr>\n",
       "    <tr>\n",
       "      <th>3</th>\n",
       "      <td>95001</td>\n",
       "      <td>Algoritmos_2</td>\n",
       "      <td>7</td>\n",
       "      <td>04-05-2018</td>\n",
       "    </tr>\n",
       "    <tr>\n",
       "      <th>4</th>\n",
       "      <td>95005</td>\n",
       "      <td>Orga_Datos</td>\n",
       "      <td>8</td>\n",
       "      <td>25-11-2019</td>\n",
       "    </tr>\n",
       "    <tr>\n",
       "      <th>5</th>\n",
       "      <td>95005</td>\n",
       "      <td>Orga_Computador</td>\n",
       "      <td>6</td>\n",
       "      <td>25-04-2019</td>\n",
       "    </tr>\n",
       "    <tr>\n",
       "      <th>6</th>\n",
       "      <td>95005</td>\n",
       "      <td>Mat_Discreta</td>\n",
       "      <td>10</td>\n",
       "      <td>12-12-2019</td>\n",
       "    </tr>\n",
       "    <tr>\n",
       "      <th>7</th>\n",
       "      <td>95005</td>\n",
       "      <td>Medios</td>\n",
       "      <td>2</td>\n",
       "      <td>10-10-2019</td>\n",
       "    </tr>\n",
       "  </tbody>\n",
       "</table>\n",
       "</div>"
      ],
      "text/plain": [
       "  padron              materia nota       fecha\n",
       "0  95001  Analisis_Matematico    9  01-08-2017\n",
       "1  95002              Algebra    8  02-04-2016\n",
       "2  95003         Algoritmos_1    7  30-08-2019\n",
       "3  95001         Algoritmos_2    7  04-05-2018\n",
       "4  95005           Orga_Datos    8  25-11-2019\n",
       "5  95005      Orga_Computador    6  25-04-2019\n",
       "6  95005         Mat_Discreta   10  12-12-2019\n",
       "7  95005               Medios    2  10-10-2019"
      ]
     },
     "execution_count": 179,
     "metadata": {},
     "output_type": "execute_result"
    }
   ],
   "source": [
    "df_a"
   ]
  },
  {
   "cell_type": "code",
   "execution_count": 180,
   "metadata": {},
   "outputs": [
    {
     "data": {
      "text/plain": [
       "pandas.core.frame.DataFrame"
      ]
     },
     "execution_count": 180,
     "metadata": {},
     "output_type": "execute_result"
    }
   ],
   "source": [
    "type(df_a)"
   ]
  },
  {
   "cell_type": "code",
   "execution_count": 181,
   "metadata": {},
   "outputs": [
    {
     "name": "stdout",
     "output_type": "stream",
     "text": [
      "<class 'pandas.core.frame.DataFrame'>\n",
      "RangeIndex: 8 entries, 0 to 7\n",
      "Data columns (total 4 columns):\n",
      "padron     8 non-null object\n",
      "materia    8 non-null object\n",
      "nota       8 non-null object\n",
      "fecha      8 non-null object\n",
      "dtypes: object(4)\n",
      "memory usage: 336.0+ bytes\n"
     ]
    }
   ],
   "source": [
    "df_a.info()"
   ]
  },
  {
   "cell_type": "code",
   "execution_count": 182,
   "metadata": {},
   "outputs": [
    {
     "data": {
      "text/plain": [
       "0     9\n",
       "1     8\n",
       "2     7\n",
       "3     7\n",
       "4     8\n",
       "5     6\n",
       "6    10\n",
       "7     2\n",
       "Name: nota, dtype: int32"
      ]
     },
     "execution_count": 182,
     "metadata": {},
     "output_type": "execute_result"
    }
   ],
   "source": [
    "#Convierto a enteros la columna nota\n",
    "df_b=df_a.loc[:,'nota'].astype(int)\n",
    "df_b"
   ]
  },
  {
   "cell_type": "code",
   "execution_count": 183,
   "metadata": {},
   "outputs": [
    {
     "data": {
      "text/plain": [
       "2"
      ]
     },
     "execution_count": 183,
     "metadata": {},
     "output_type": "execute_result"
    }
   ],
   "source": [
    "#Busco la nota mas baja\n",
    "df_b.min()"
   ]
  },
  {
   "cell_type": "code",
   "execution_count": 184,
   "metadata": {},
   "outputs": [
    {
     "data": {
      "text/plain": [
       "10"
      ]
     },
     "execution_count": 184,
     "metadata": {},
     "output_type": "execute_result"
    }
   ],
   "source": [
    "#Busco la nota mas alta\n",
    "df_b.max()"
   ]
  },
  {
   "cell_type": "code",
   "execution_count": 185,
   "metadata": {},
   "outputs": [
    {
     "data": {
      "text/plain": [
       "7.125"
      ]
     },
     "execution_count": 185,
     "metadata": {},
     "output_type": "execute_result"
    }
   ],
   "source": [
    "#Busco el promedio de todas las notas (punto 1A)\n",
    "df_b.mean()"
   ]
  },
  {
   "cell_type": "code",
   "execution_count": 186,
   "metadata": {},
   "outputs": [
    {
     "data": {
      "text/html": [
       "<div>\n",
       "<style scoped>\n",
       "    .dataframe tbody tr th:only-of-type {\n",
       "        vertical-align: middle;\n",
       "    }\n",
       "\n",
       "    .dataframe tbody tr th {\n",
       "        vertical-align: top;\n",
       "    }\n",
       "\n",
       "    .dataframe thead th {\n",
       "        text-align: right;\n",
       "    }\n",
       "</style>\n",
       "<table border=\"1\" class=\"dataframe\">\n",
       "  <thead>\n",
       "    <tr style=\"text-align: right;\">\n",
       "      <th></th>\n",
       "      <th>padron</th>\n",
       "      <th>materia</th>\n",
       "      <th>nota</th>\n",
       "      <th>fecha</th>\n",
       "    </tr>\n",
       "  </thead>\n",
       "  <tbody>\n",
       "    <tr>\n",
       "      <th>2</th>\n",
       "      <td>95003</td>\n",
       "      <td>Algoritmos_1</td>\n",
       "      <td>7</td>\n",
       "      <td>30-08-2019</td>\n",
       "    </tr>\n",
       "    <tr>\n",
       "      <th>4</th>\n",
       "      <td>95005</td>\n",
       "      <td>Orga_Datos</td>\n",
       "      <td>8</td>\n",
       "      <td>25-11-2019</td>\n",
       "    </tr>\n",
       "    <tr>\n",
       "      <th>5</th>\n",
       "      <td>95005</td>\n",
       "      <td>Orga_Computador</td>\n",
       "      <td>6</td>\n",
       "      <td>25-04-2019</td>\n",
       "    </tr>\n",
       "  </tbody>\n",
       "</table>\n",
       "</div>"
      ],
      "text/plain": [
       "  padron          materia nota       fecha\n",
       "2  95003     Algoritmos_1    7  30-08-2019\n",
       "4  95005       Orga_Datos    8  25-11-2019\n",
       "5  95005  Orga_Computador    6  25-04-2019"
      ]
     },
     "execution_count": 186,
     "metadata": {},
     "output_type": "execute_result"
    }
   ],
   "source": [
    "#filtro por año \n",
    "df_d=df_a.loc[df_a.fecha>\"2018\",:]\n",
    "df_d"
   ]
  },
  {
   "cell_type": "code",
   "execution_count": 187,
   "metadata": {},
   "outputs": [
    {
     "data": {
      "text/plain": [
       "'6'"
      ]
     },
     "execution_count": 187,
     "metadata": {},
     "output_type": "execute_result"
    }
   ],
   "source": [
    "#Busco la nota mas baja durante 2019 (punto 2B)\n",
    "df_d.nota.min()"
   ]
  },
  {
   "cell_type": "code",
   "execution_count": 188,
   "metadata": {},
   "outputs": [
    {
     "data": {
      "text/plain": [
       "'8'"
      ]
     },
     "execution_count": 188,
     "metadata": {},
     "output_type": "execute_result"
    }
   ],
   "source": [
    "#Busco la nota mas alta durante 2019 (punto 2B)\n",
    "df_d.nota.max()"
   ]
  },
  {
   "cell_type": "code",
   "execution_count": 189,
   "metadata": {},
   "outputs": [
    {
     "data": {
      "text/html": [
       "<div>\n",
       "<style scoped>\n",
       "    .dataframe tbody tr th:only-of-type {\n",
       "        vertical-align: middle;\n",
       "    }\n",
       "\n",
       "    .dataframe tbody tr th {\n",
       "        vertical-align: top;\n",
       "    }\n",
       "\n",
       "    .dataframe thead th {\n",
       "        text-align: right;\n",
       "    }\n",
       "</style>\n",
       "<table border=\"1\" class=\"dataframe\">\n",
       "  <thead>\n",
       "    <tr style=\"text-align: right;\">\n",
       "      <th></th>\n",
       "      <th>padron</th>\n",
       "      <th>materia</th>\n",
       "      <th>nota</th>\n",
       "      <th>fecha</th>\n",
       "    </tr>\n",
       "  </thead>\n",
       "  <tbody>\n",
       "    <tr>\n",
       "      <th>0</th>\n",
       "      <td>95001</td>\n",
       "      <td>Analisis_Matematico</td>\n",
       "      <td>9</td>\n",
       "      <td>2017-01-08</td>\n",
       "    </tr>\n",
       "    <tr>\n",
       "      <th>1</th>\n",
       "      <td>95002</td>\n",
       "      <td>Algebra</td>\n",
       "      <td>8</td>\n",
       "      <td>2016-02-04</td>\n",
       "    </tr>\n",
       "    <tr>\n",
       "      <th>2</th>\n",
       "      <td>95003</td>\n",
       "      <td>Algoritmos_1</td>\n",
       "      <td>7</td>\n",
       "      <td>2019-08-30</td>\n",
       "    </tr>\n",
       "    <tr>\n",
       "      <th>3</th>\n",
       "      <td>95001</td>\n",
       "      <td>Algoritmos_2</td>\n",
       "      <td>7</td>\n",
       "      <td>2018-04-05</td>\n",
       "    </tr>\n",
       "    <tr>\n",
       "      <th>4</th>\n",
       "      <td>95005</td>\n",
       "      <td>Orga_Datos</td>\n",
       "      <td>8</td>\n",
       "      <td>2019-11-25</td>\n",
       "    </tr>\n",
       "    <tr>\n",
       "      <th>5</th>\n",
       "      <td>95005</td>\n",
       "      <td>Orga_Computador</td>\n",
       "      <td>6</td>\n",
       "      <td>2019-04-25</td>\n",
       "    </tr>\n",
       "    <tr>\n",
       "      <th>6</th>\n",
       "      <td>95005</td>\n",
       "      <td>Mat_Discreta</td>\n",
       "      <td>10</td>\n",
       "      <td>2019-12-12</td>\n",
       "    </tr>\n",
       "    <tr>\n",
       "      <th>7</th>\n",
       "      <td>95005</td>\n",
       "      <td>Medios</td>\n",
       "      <td>2</td>\n",
       "      <td>2019-10-10</td>\n",
       "    </tr>\n",
       "  </tbody>\n",
       "</table>\n",
       "</div>"
      ],
      "text/plain": [
       "  padron              materia nota      fecha\n",
       "0  95001  Analisis_Matematico    9 2017-01-08\n",
       "1  95002              Algebra    8 2016-02-04\n",
       "2  95003         Algoritmos_1    7 2019-08-30\n",
       "3  95001         Algoritmos_2    7 2018-04-05\n",
       "4  95005           Orga_Datos    8 2019-11-25\n",
       "5  95005      Orga_Computador    6 2019-04-25\n",
       "6  95005         Mat_Discreta   10 2019-12-12\n",
       "7  95005               Medios    2 2019-10-10"
      ]
     },
     "execution_count": 189,
     "metadata": {},
     "output_type": "execute_result"
    }
   ],
   "source": [
    "#Convierto a formato datetima la columna fecha\n",
    "df_a.loc[:, \"fecha\"] = pd.to_datetime(df_a[\"fecha\"])\n",
    "df_a"
   ]
  },
  {
   "cell_type": "code",
   "execution_count": 190,
   "metadata": {},
   "outputs": [
    {
     "name": "stdout",
     "output_type": "stream",
     "text": [
      "<class 'pandas.core.frame.DataFrame'>\n",
      "RangeIndex: 8 entries, 0 to 7\n",
      "Data columns (total 4 columns):\n",
      "padron     8 non-null object\n",
      "materia    8 non-null object\n",
      "nota       8 non-null object\n",
      "fecha      8 non-null datetime64[ns]\n",
      "dtypes: datetime64[ns](1), object(3)\n",
      "memory usage: 336.0+ bytes\n"
     ]
    }
   ],
   "source": [
    "#Verifico el paso anterior\n",
    "df_a.info()"
   ]
  },
  {
   "cell_type": "code",
   "execution_count": 191,
   "metadata": {},
   "outputs": [
    {
     "data": {
      "text/html": [
       "<div>\n",
       "<style scoped>\n",
       "    .dataframe tbody tr th:only-of-type {\n",
       "        vertical-align: middle;\n",
       "    }\n",
       "\n",
       "    .dataframe tbody tr th {\n",
       "        vertical-align: top;\n",
       "    }\n",
       "\n",
       "    .dataframe thead th {\n",
       "        text-align: right;\n",
       "    }\n",
       "</style>\n",
       "<table border=\"1\" class=\"dataframe\">\n",
       "  <thead>\n",
       "    <tr style=\"text-align: right;\">\n",
       "      <th></th>\n",
       "      <th>padron</th>\n",
       "      <th>materia</th>\n",
       "      <th>nota</th>\n",
       "      <th>fecha</th>\n",
       "    </tr>\n",
       "  </thead>\n",
       "  <tbody>\n",
       "    <tr>\n",
       "      <th>2</th>\n",
       "      <td>95003</td>\n",
       "      <td>Algoritmos_1</td>\n",
       "      <td>7</td>\n",
       "      <td>2019-08-30</td>\n",
       "    </tr>\n",
       "    <tr>\n",
       "      <th>4</th>\n",
       "      <td>95005</td>\n",
       "      <td>Orga_Datos</td>\n",
       "      <td>8</td>\n",
       "      <td>2019-11-25</td>\n",
       "    </tr>\n",
       "    <tr>\n",
       "      <th>6</th>\n",
       "      <td>95005</td>\n",
       "      <td>Mat_Discreta</td>\n",
       "      <td>10</td>\n",
       "      <td>2019-12-12</td>\n",
       "    </tr>\n",
       "    <tr>\n",
       "      <th>7</th>\n",
       "      <td>95005</td>\n",
       "      <td>Medios</td>\n",
       "      <td>2</td>\n",
       "      <td>2019-10-10</td>\n",
       "    </tr>\n",
       "  </tbody>\n",
       "</table>\n",
       "</div>"
      ],
      "text/plain": [
       "  padron       materia nota      fecha\n",
       "2  95003  Algoritmos_1    7 2019-08-30\n",
       "4  95005    Orga_Datos    8 2019-11-25\n",
       "6  95005  Mat_Discreta   10 2019-12-12\n",
       "7  95005        Medios    2 2019-10-10"
      ]
     },
     "execution_count": 191,
     "metadata": {},
     "output_type": "execute_result"
    }
   ],
   "source": [
    "#Filtro para obtener el 2do cuatrimestre de 2019\n",
    "df_m=df_a.loc[df_a.fecha>\"08-2019\",:]\n",
    "df_m"
   ]
  },
  {
   "cell_type": "code",
   "execution_count": 192,
   "metadata": {},
   "outputs": [
    {
     "data": {
      "text/html": [
       "<div>\n",
       "<style scoped>\n",
       "    .dataframe tbody tr th:only-of-type {\n",
       "        vertical-align: middle;\n",
       "    }\n",
       "\n",
       "    .dataframe tbody tr th {\n",
       "        vertical-align: top;\n",
       "    }\n",
       "\n",
       "    .dataframe thead th {\n",
       "        text-align: right;\n",
       "    }\n",
       "</style>\n",
       "<table border=\"1\" class=\"dataframe\">\n",
       "  <thead>\n",
       "    <tr style=\"text-align: right;\">\n",
       "      <th></th>\n",
       "      <th>padron</th>\n",
       "      <th>materia</th>\n",
       "      <th>nota</th>\n",
       "      <th>fecha</th>\n",
       "    </tr>\n",
       "  </thead>\n",
       "  <tbody>\n",
       "    <tr>\n",
       "      <th>0</th>\n",
       "      <td>95001</td>\n",
       "      <td>Analisis_Matematico</td>\n",
       "      <td>9</td>\n",
       "      <td>2017-01-08</td>\n",
       "    </tr>\n",
       "    <tr>\n",
       "      <th>1</th>\n",
       "      <td>95002</td>\n",
       "      <td>Algebra</td>\n",
       "      <td>8</td>\n",
       "      <td>2016-02-04</td>\n",
       "    </tr>\n",
       "    <tr>\n",
       "      <th>2</th>\n",
       "      <td>95003</td>\n",
       "      <td>Algoritmos_1</td>\n",
       "      <td>7</td>\n",
       "      <td>2019-08-30</td>\n",
       "    </tr>\n",
       "    <tr>\n",
       "      <th>3</th>\n",
       "      <td>95001</td>\n",
       "      <td>Algoritmos_2</td>\n",
       "      <td>7</td>\n",
       "      <td>2018-04-05</td>\n",
       "    </tr>\n",
       "    <tr>\n",
       "      <th>4</th>\n",
       "      <td>95005</td>\n",
       "      <td>Orga_Datos</td>\n",
       "      <td>8</td>\n",
       "      <td>2019-11-25</td>\n",
       "    </tr>\n",
       "    <tr>\n",
       "      <th>5</th>\n",
       "      <td>95005</td>\n",
       "      <td>Orga_Computador</td>\n",
       "      <td>6</td>\n",
       "      <td>2019-04-25</td>\n",
       "    </tr>\n",
       "    <tr>\n",
       "      <th>6</th>\n",
       "      <td>95005</td>\n",
       "      <td>Mat_Discreta</td>\n",
       "      <td>10</td>\n",
       "      <td>2019-12-12</td>\n",
       "    </tr>\n",
       "    <tr>\n",
       "      <th>7</th>\n",
       "      <td>95005</td>\n",
       "      <td>Medios</td>\n",
       "      <td>2</td>\n",
       "      <td>2019-10-10</td>\n",
       "    </tr>\n",
       "  </tbody>\n",
       "</table>\n",
       "</div>"
      ],
      "text/plain": [
       "  padron              materia  nota      fecha\n",
       "0  95001  Analisis_Matematico     9 2017-01-08\n",
       "1  95002              Algebra     8 2016-02-04\n",
       "2  95003         Algoritmos_1     7 2019-08-30\n",
       "3  95001         Algoritmos_2     7 2018-04-05\n",
       "4  95005           Orga_Datos     8 2019-11-25\n",
       "5  95005      Orga_Computador     6 2019-04-25\n",
       "6  95005         Mat_Discreta    10 2019-12-12\n",
       "7  95005               Medios     2 2019-10-10"
      ]
     },
     "execution_count": 192,
     "metadata": {},
     "output_type": "execute_result"
    }
   ],
   "source": [
    "#Pero antes necesito la columna nota como entero , para poder hacer calculos\n",
    "df_o=df_a.loc[:,'nota'].astype(int)\n",
    "df_a.loc[:,'nota']=df_a.loc[:,'nota'].astype(int)\n",
    "df_a"
   ]
  },
  {
   "cell_type": "code",
   "execution_count": 193,
   "metadata": {},
   "outputs": [
    {
     "name": "stdout",
     "output_type": "stream",
     "text": [
      "<class 'pandas.core.frame.DataFrame'>\n",
      "RangeIndex: 8 entries, 0 to 7\n",
      "Data columns (total 4 columns):\n",
      "padron     8 non-null object\n",
      "materia    8 non-null object\n",
      "nota       8 non-null int32\n",
      "fecha      8 non-null datetime64[ns]\n",
      "dtypes: datetime64[ns](1), int32(1), object(2)\n",
      "memory usage: 304.0+ bytes\n"
     ]
    }
   ],
   "source": [
    "df_a.info()"
   ]
  },
  {
   "cell_type": "code",
   "execution_count": 194,
   "metadata": {},
   "outputs": [
    {
     "data": {
      "text/html": [
       "<div>\n",
       "<style scoped>\n",
       "    .dataframe tbody tr th:only-of-type {\n",
       "        vertical-align: middle;\n",
       "    }\n",
       "\n",
       "    .dataframe tbody tr th {\n",
       "        vertical-align: top;\n",
       "    }\n",
       "\n",
       "    .dataframe thead th {\n",
       "        text-align: right;\n",
       "    }\n",
       "</style>\n",
       "<table border=\"1\" class=\"dataframe\">\n",
       "  <thead>\n",
       "    <tr style=\"text-align: right;\">\n",
       "      <th></th>\n",
       "      <th>padron</th>\n",
       "      <th>materia</th>\n",
       "      <th>nota</th>\n",
       "      <th>fecha</th>\n",
       "    </tr>\n",
       "  </thead>\n",
       "  <tbody>\n",
       "    <tr>\n",
       "      <th>2</th>\n",
       "      <td>95003</td>\n",
       "      <td>Algoritmos_1</td>\n",
       "      <td>7</td>\n",
       "      <td>2019-08-30</td>\n",
       "    </tr>\n",
       "    <tr>\n",
       "      <th>4</th>\n",
       "      <td>95005</td>\n",
       "      <td>Orga_Datos</td>\n",
       "      <td>8</td>\n",
       "      <td>2019-11-25</td>\n",
       "    </tr>\n",
       "    <tr>\n",
       "      <th>6</th>\n",
       "      <td>95005</td>\n",
       "      <td>Mat_Discreta</td>\n",
       "      <td>10</td>\n",
       "      <td>2019-12-12</td>\n",
       "    </tr>\n",
       "    <tr>\n",
       "      <th>7</th>\n",
       "      <td>95005</td>\n",
       "      <td>Medios</td>\n",
       "      <td>2</td>\n",
       "      <td>2019-10-10</td>\n",
       "    </tr>\n",
       "  </tbody>\n",
       "</table>\n",
       "</div>"
      ],
      "text/plain": [
       "  padron       materia  nota      fecha\n",
       "2  95003  Algoritmos_1     7 2019-08-30\n",
       "4  95005    Orga_Datos     8 2019-11-25\n",
       "6  95005  Mat_Discreta    10 2019-12-12\n",
       "7  95005        Medios     2 2019-10-10"
      ]
     },
     "execution_count": 194,
     "metadata": {},
     "output_type": "execute_result"
    }
   ],
   "source": [
    "df_o=df_a.loc[df_a.fecha>\"08-2019\",:]\n",
    "df_o"
   ]
  },
  {
   "cell_type": "code",
   "execution_count": 195,
   "metadata": {},
   "outputs": [
    {
     "data": {
      "text/plain": [
       "padron\n",
       "95003    7.000000\n",
       "95005    6.666667\n",
       "Name: nota, dtype: float64"
      ]
     },
     "execution_count": 195,
     "metadata": {},
     "output_type": "execute_result"
    }
   ],
   "source": [
    "#Busco el promedio por padron en el 2do cuatrimetre de 2019\n",
    "df_o.groupby(['padron'])['nota'].agg('mean')"
   ]
  },
  {
   "cell_type": "code",
   "execution_count": 196,
   "metadata": {},
   "outputs": [
    {
     "data": {
      "text/plain": [
       "padron\n",
       "95001    8.0\n",
       "95002    8.0\n",
       "95003    7.0\n",
       "95005    6.5\n",
       "Name: nota, dtype: float64"
      ]
     },
     "execution_count": 196,
     "metadata": {},
     "output_type": "execute_result"
    }
   ],
   "source": [
    "#Busco el promedio por padron a lo largo del tiempo (punto 1E)\n",
    "df_a.groupby(['padron'])['nota'].agg('mean')"
   ]
  },
  {
   "cell_type": "code",
   "execution_count": 222,
   "metadata": {},
   "outputs": [
    {
     "data": {
      "text/html": [
       "<div>\n",
       "<style scoped>\n",
       "    .dataframe tbody tr th:only-of-type {\n",
       "        vertical-align: middle;\n",
       "    }\n",
       "\n",
       "    .dataframe tbody tr th {\n",
       "        vertical-align: top;\n",
       "    }\n",
       "\n",
       "    .dataframe thead th {\n",
       "        text-align: right;\n",
       "    }\n",
       "</style>\n",
       "<table border=\"1\" class=\"dataframe\">\n",
       "  <thead>\n",
       "    <tr style=\"text-align: right;\">\n",
       "      <th></th>\n",
       "      <th>padron</th>\n",
       "      <th>materia</th>\n",
       "      <th>nota</th>\n",
       "      <th>fecha</th>\n",
       "      <th>aprobo</th>\n",
       "    </tr>\n",
       "  </thead>\n",
       "  <tbody>\n",
       "    <tr>\n",
       "      <th>0</th>\n",
       "      <td>95001</td>\n",
       "      <td>Analisis_Matematico</td>\n",
       "      <td>9</td>\n",
       "      <td>2017-01-08</td>\n",
       "      <td>True</td>\n",
       "    </tr>\n",
       "    <tr>\n",
       "      <th>1</th>\n",
       "      <td>95002</td>\n",
       "      <td>Algebra</td>\n",
       "      <td>8</td>\n",
       "      <td>2016-02-04</td>\n",
       "      <td>True</td>\n",
       "    </tr>\n",
       "    <tr>\n",
       "      <th>2</th>\n",
       "      <td>95003</td>\n",
       "      <td>Algoritmos_1</td>\n",
       "      <td>7</td>\n",
       "      <td>2019-08-30</td>\n",
       "      <td>True</td>\n",
       "    </tr>\n",
       "    <tr>\n",
       "      <th>3</th>\n",
       "      <td>95001</td>\n",
       "      <td>Algoritmos_2</td>\n",
       "      <td>7</td>\n",
       "      <td>2018-04-05</td>\n",
       "      <td>True</td>\n",
       "    </tr>\n",
       "    <tr>\n",
       "      <th>4</th>\n",
       "      <td>95005</td>\n",
       "      <td>Orga_Datos</td>\n",
       "      <td>8</td>\n",
       "      <td>2019-11-25</td>\n",
       "      <td>True</td>\n",
       "    </tr>\n",
       "    <tr>\n",
       "      <th>5</th>\n",
       "      <td>95005</td>\n",
       "      <td>Orga_Computador</td>\n",
       "      <td>6</td>\n",
       "      <td>2019-04-25</td>\n",
       "      <td>True</td>\n",
       "    </tr>\n",
       "    <tr>\n",
       "      <th>6</th>\n",
       "      <td>95005</td>\n",
       "      <td>Mat_Discreta</td>\n",
       "      <td>10</td>\n",
       "      <td>2019-12-12</td>\n",
       "      <td>True</td>\n",
       "    </tr>\n",
       "    <tr>\n",
       "      <th>7</th>\n",
       "      <td>95005</td>\n",
       "      <td>Medios</td>\n",
       "      <td>2</td>\n",
       "      <td>2019-10-10</td>\n",
       "      <td>False</td>\n",
       "    </tr>\n",
       "  </tbody>\n",
       "</table>\n",
       "</div>"
      ],
      "text/plain": [
       "  padron              materia  nota      fecha  aprobo\n",
       "0  95001  Analisis_Matematico     9 2017-01-08    True\n",
       "1  95002              Algebra     8 2016-02-04    True\n",
       "2  95003         Algoritmos_1     7 2019-08-30    True\n",
       "3  95001         Algoritmos_2     7 2018-04-05    True\n",
       "4  95005           Orga_Datos     8 2019-11-25    True\n",
       "5  95005      Orga_Computador     6 2019-04-25    True\n",
       "6  95005         Mat_Discreta    10 2019-12-12    True\n",
       "7  95005               Medios     2 2019-10-10   False"
      ]
     },
     "execution_count": 222,
     "metadata": {},
     "output_type": "execute_result"
    }
   ],
   "source": [
    "#Busco el padron que mas aprobo materias ,primero filtro las notas aprobadas\n",
    "#Agrego la columna aprobo de tipo boolean\n",
    "df_a['aprobo']=df_a.loc[:,'nota']>4\n",
    "df_a"
   ]
  },
  {
   "cell_type": "code",
   "execution_count": 223,
   "metadata": {},
   "outputs": [
    {
     "data": {
      "text/html": [
       "<div>\n",
       "<style scoped>\n",
       "    .dataframe tbody tr th:only-of-type {\n",
       "        vertical-align: middle;\n",
       "    }\n",
       "\n",
       "    .dataframe tbody tr th {\n",
       "        vertical-align: top;\n",
       "    }\n",
       "\n",
       "    .dataframe thead th {\n",
       "        text-align: right;\n",
       "    }\n",
       "</style>\n",
       "<table border=\"1\" class=\"dataframe\">\n",
       "  <thead>\n",
       "    <tr style=\"text-align: right;\">\n",
       "      <th></th>\n",
       "      <th>padron</th>\n",
       "      <th>materia</th>\n",
       "      <th>nota</th>\n",
       "      <th>fecha</th>\n",
       "      <th>aprobo</th>\n",
       "    </tr>\n",
       "  </thead>\n",
       "  <tbody>\n",
       "    <tr>\n",
       "      <th>0</th>\n",
       "      <td>95001</td>\n",
       "      <td>Analisis_Matematico</td>\n",
       "      <td>9</td>\n",
       "      <td>2017-01-08</td>\n",
       "      <td>True</td>\n",
       "    </tr>\n",
       "    <tr>\n",
       "      <th>1</th>\n",
       "      <td>95002</td>\n",
       "      <td>Algebra</td>\n",
       "      <td>8</td>\n",
       "      <td>2016-02-04</td>\n",
       "      <td>True</td>\n",
       "    </tr>\n",
       "    <tr>\n",
       "      <th>2</th>\n",
       "      <td>95003</td>\n",
       "      <td>Algoritmos_1</td>\n",
       "      <td>7</td>\n",
       "      <td>2019-08-30</td>\n",
       "      <td>True</td>\n",
       "    </tr>\n",
       "    <tr>\n",
       "      <th>3</th>\n",
       "      <td>95001</td>\n",
       "      <td>Algoritmos_2</td>\n",
       "      <td>7</td>\n",
       "      <td>2018-04-05</td>\n",
       "      <td>True</td>\n",
       "    </tr>\n",
       "    <tr>\n",
       "      <th>4</th>\n",
       "      <td>95005</td>\n",
       "      <td>Orga_Datos</td>\n",
       "      <td>8</td>\n",
       "      <td>2019-11-25</td>\n",
       "      <td>True</td>\n",
       "    </tr>\n",
       "    <tr>\n",
       "      <th>5</th>\n",
       "      <td>95005</td>\n",
       "      <td>Orga_Computador</td>\n",
       "      <td>6</td>\n",
       "      <td>2019-04-25</td>\n",
       "      <td>True</td>\n",
       "    </tr>\n",
       "    <tr>\n",
       "      <th>6</th>\n",
       "      <td>95005</td>\n",
       "      <td>Mat_Discreta</td>\n",
       "      <td>10</td>\n",
       "      <td>2019-12-12</td>\n",
       "      <td>True</td>\n",
       "    </tr>\n",
       "  </tbody>\n",
       "</table>\n",
       "</div>"
      ],
      "text/plain": [
       "  padron              materia  nota      fecha  aprobo\n",
       "0  95001  Analisis_Matematico     9 2017-01-08    True\n",
       "1  95002              Algebra     8 2016-02-04    True\n",
       "2  95003         Algoritmos_1     7 2019-08-30    True\n",
       "3  95001         Algoritmos_2     7 2018-04-05    True\n",
       "4  95005           Orga_Datos     8 2019-11-25    True\n",
       "5  95005      Orga_Computador     6 2019-04-25    True\n",
       "6  95005         Mat_Discreta    10 2019-12-12    True"
      ]
     },
     "execution_count": 223,
     "metadata": {},
     "output_type": "execute_result"
    }
   ],
   "source": [
    "df_a2=df_a.loc[df_a['aprobo']==True,:]\n",
    "df_a2"
   ]
  },
  {
   "cell_type": "code",
   "execution_count": 224,
   "metadata": {},
   "outputs": [
    {
     "data": {
      "text/plain": [
       "padron\n",
       "95001    2\n",
       "95002    1\n",
       "95003    1\n",
       "95005    3\n",
       "Name: aprobo, dtype: int64"
      ]
     },
     "execution_count": 224,
     "metadata": {},
     "output_type": "execute_result"
    }
   ],
   "source": [
    "#Agrupo por padron y contando las cantidades de True`s que tengo para cada padron\n",
    "df_mas_aprobadas=df_a2.groupby(['padron',])['aprobo'].agg('count')\n",
    "df_mas_aprobadas"
   ]
  },
  {
   "cell_type": "code",
   "execution_count": 225,
   "metadata": {},
   "outputs": [
    {
     "data": {
      "text/plain": [
       "pandas.core.series.Series"
      ]
     },
     "execution_count": 225,
     "metadata": {},
     "output_type": "execute_result"
    }
   ],
   "source": [
    "type(df_mas_aprobadas)"
   ]
  },
  {
   "cell_type": "code",
   "execution_count": 227,
   "metadata": {},
   "outputs": [
    {
     "data": {
      "text/plain": [
       "padron\n",
       "95005    3\n",
       "Name: aprobo, dtype: int64"
      ]
     },
     "execution_count": 227,
     "metadata": {},
     "output_type": "execute_result"
    }
   ],
   "source": [
    "#Me quedo con la cantidad de materias aprobadas mas alta de todos los padrones \n",
    "#y asi obtengo el padron que mas materia aprobo (punto 1C)\n",
    "df_mas_aprobadas.sort_values(ascending=False).head(1)"
   ]
  },
  {
   "cell_type": "code",
   "execution_count": 230,
   "metadata": {},
   "outputs": [
    {
     "data": {
      "text/plain": [
       "nota\n",
       "2     1\n",
       "6     1\n",
       "7     2\n",
       "8     2\n",
       "9     1\n",
       "10    1\n",
       "Name: nota, dtype: int64"
      ]
     },
     "execution_count": 230,
     "metadata": {},
     "output_type": "execute_result"
    }
   ],
   "source": [
    "#Busco la nota promedio ,para eso agrupo por notas y luego filtro la que mas aparece\n",
    "df_nota_promedio=df_a.groupby(['nota',])['nota'].agg('count')\n",
    "df_nota_promedio"
   ]
  },
  {
   "cell_type": "code",
   "execution_count": 232,
   "metadata": {},
   "outputs": [
    {
     "data": {
      "text/plain": [
       "nota\n",
       "8    2\n",
       "Name: nota, dtype: int64"
      ]
     },
     "execution_count": 232,
     "metadata": {},
     "output_type": "execute_result"
    }
   ],
   "source": [
    "#Filtro la nota que mas aparece ,para obtener la nota promedio (punto 1D)\n",
    "df_nota_promedio.sort_values(ascending=False).head(1)"
   ]
  },
  {
   "cell_type": "code",
   "execution_count": null,
   "metadata": {},
   "outputs": [],
   "source": []
  }
 ],
 "metadata": {
  "kernelspec": {
   "display_name": "Python 3",
   "language": "python",
   "name": "python3"
  },
  "language_info": {
   "codemirror_mode": {
    "name": "ipython",
    "version": 3
   },
   "file_extension": ".py",
   "mimetype": "text/x-python",
   "name": "python",
   "nbconvert_exporter": "python",
   "pygments_lexer": "ipython3",
   "version": "3.7.1"
  }
 },
 "nbformat": 4,
 "nbformat_minor": 2
}
