{
 "cells": [
  {
   "cell_type": "code",
   "execution_count": 2,
   "metadata": {},
   "outputs": [],
   "source": [
    "import pyspark\n",
    "\n",
    "try: \n",
    "    type(sc)\n",
    "except NameError:\n",
    "    sc = pyspark.SparkContext('local[*]')"
   ]
  },
  {
   "cell_type": "code",
   "execution_count": 3,
   "metadata": {},
   "outputs": [],
   "source": [
    "# RDD con información de vuelos programados con la forma (número de vuelo,\n",
    "# código de aerolínea, código de aeropuerto de salida, código de aeropuerto de llegada, fecha de\n",
    "# salida AAAAMMDD, hora de salida HH:MM, fecha de llegada AAAAMMDD, hora de llegada\n",
    "# HH:MM). A su vez, se cuenta con el registro actualizado del estado de los vuelos que fueron\n",
    "# ocurriendo, con la forma (número de vuelo, aerolínea, fecha de salida AAAAMMDD, hora de\n",
    "# salida HH:MM, fecha de llegada AAAAMMDD, hora de llegada HH:MM, estado).\n",
    "# Con base al estado, podría contar con algún dato en blanco, por ejemplo si el vuelo fue cancelado no tendrá\n",
    "# información de fechas y horas, si el vuelo se encuentra aún en curso, no contendrá información\n",
    "# de la llegada"
   ]
  },
  {
   "cell_type": "code",
   "execution_count": 4,
   "metadata": {},
   "outputs": [],
   "source": [
    "rdd_vuelosProgramados = [\n",
    "    (345,'AAR','MDQ','EZE','20191003','10:00','20191003','11:00'),\n",
    "    (355,'AAR','MDQ','AEP','20191104','10:15','20191104','11:00'),\n",
    "    (315,'APY','EPA','MDQ','20191104','10:15','20191104','11:00'),\n",
    "    (225,'FLG','EPA','MDZ','20191104','10:15','20191104','11:00'),\n",
    "    (255,'AAR','MDQ','MDZ','20191105','10:15','20191105','11:00'),\n",
    "    (175,'AAR','MDQ','AEP','20191103','10:15','20191103','11:00'),\n",
    "    (255,'AAR','MDQ','AEP','20191104','10:15','20191104','11:00'),\n",
    "    (155,'AAR','MDQ','AEP','20191105','10:15','20191105','11:00'),\n",
    "    (455,'AAR','MDQ','AEP','20191106','10:15','20191106','11:00'),\n",
    "    (535,'AAR','MDQ','AEP','20191107','10:15','20191107','11:00')\n",
    "\n",
    "]\n"
   ]
  },
  {
   "cell_type": "code",
   "execution_count": 5,
   "metadata": {},
   "outputs": [],
   "source": [
    "data = sc.parallelize(rdd_vuelosProgramados);"
   ]
  },
  {
   "cell_type": "code",
   "execution_count": 6,
   "metadata": {},
   "outputs": [
    {
     "data": {
      "text/plain": [
       "[('MDQ', 1),\n",
       " ('MDQ', 1),\n",
       " ('EPA', 1),\n",
       " ('EPA', 1),\n",
       " ('MDQ', 1),\n",
       " ('MDQ', 1),\n",
       " ('MDQ', 1),\n",
       " ('MDQ', 1),\n",
       " ('MDQ', 1),\n",
       " ('MDQ', 1)]"
      ]
     },
     "execution_count": 6,
     "metadata": {},
     "output_type": "execute_result"
    }
   ],
   "source": [
    "#Rta A el aeropuerto con mayor transito\n",
    "data1=data.map(lambda x: (x[2],1))\n",
    "data1.collect()"
   ]
  },
  {
   "cell_type": "code",
   "execution_count": 7,
   "metadata": {},
   "outputs": [
    {
     "data": {
      "text/plain": [
       "[('EZE', 1),\n",
       " ('AEP', 1),\n",
       " ('MDQ', 1),\n",
       " ('MDZ', 1),\n",
       " ('MDZ', 1),\n",
       " ('AEP', 1),\n",
       " ('AEP', 1),\n",
       " ('AEP', 1),\n",
       " ('AEP', 1),\n",
       " ('AEP', 1)]"
      ]
     },
     "execution_count": 7,
     "metadata": {},
     "output_type": "execute_result"
    }
   ],
   "source": [
    "data2=data.map(lambda x: (x[3],1))\n",
    "data2.collect()"
   ]
  },
  {
   "cell_type": "code",
   "execution_count": 8,
   "metadata": {},
   "outputs": [
    {
     "data": {
      "text/plain": [
       "[('MDQ', 1),\n",
       " ('MDQ', 1),\n",
       " ('EPA', 1),\n",
       " ('EPA', 1),\n",
       " ('MDQ', 1),\n",
       " ('MDQ', 1),\n",
       " ('MDQ', 1),\n",
       " ('MDQ', 1),\n",
       " ('MDQ', 1),\n",
       " ('MDQ', 1),\n",
       " ('EZE', 1),\n",
       " ('AEP', 1),\n",
       " ('MDQ', 1),\n",
       " ('MDZ', 1),\n",
       " ('MDZ', 1),\n",
       " ('AEP', 1),\n",
       " ('AEP', 1),\n",
       " ('AEP', 1),\n",
       " ('AEP', 1),\n",
       " ('AEP', 1)]"
      ]
     },
     "execution_count": 8,
     "metadata": {},
     "output_type": "execute_result"
    }
   ],
   "source": [
    "data3=data1+data2\n",
    "data3.collect()"
   ]
  },
  {
   "cell_type": "code",
   "execution_count": 9,
   "metadata": {},
   "outputs": [
    {
     "data": {
      "text/plain": [
       "[('AEP', 6), ('MDZ', 2), ('MDQ', 9), ('EPA', 2), ('EZE', 1)]"
      ]
     },
     "execution_count": 9,
     "metadata": {},
     "output_type": "execute_result"
    }
   ],
   "source": [
    "data4=data3.reduceByKey(lambda x , y : (x+y))\n",
    "data5=data4.collect()\n",
    "data5"
   ]
  },
  {
   "cell_type": "code",
   "execution_count": 10,
   "metadata": {},
   "outputs": [
    {
     "data": {
      "text/plain": [
       "[('MDQ', 9), ('AEP', 6), ('EPA', 2), ('MDZ', 2), ('EZE', 1)]"
      ]
     },
     "execution_count": 10,
     "metadata": {},
     "output_type": "execute_result"
    }
   ],
   "source": [
    "def getValue(item):   \n",
    "    return item[1]\n",
    "resultadoFinal=sorted(data5, key=getValue)\n",
    "resultadoFinal.reverse()\n",
    "resultadoFinal"
   ]
  },
  {
   "cell_type": "code",
   "execution_count": 14,
   "metadata": {},
   "outputs": [
    {
     "data": {
      "text/plain": [
       "('MDQ', 9)"
      ]
     },
     "execution_count": 14,
     "metadata": {},
     "output_type": "execute_result"
    }
   ],
   "source": [
    "resultadoFinal[0]"
   ]
  },
  {
   "cell_type": "code",
   "execution_count": 11,
   "metadata": {},
   "outputs": [
    {
     "data": {
      "text/plain": [
       "('MDZ', 2)"
      ]
     },
     "execution_count": 11,
     "metadata": {},
     "output_type": "execute_result"
    }
   ],
   "source": [
    "#Esto no funciona ordena por clave \n",
    "data4.reduce(lambda x ,y : x if x > y else y )"
   ]
  },
  {
   "cell_type": "code",
   "execution_count": 19,
   "metadata": {},
   "outputs": [
    {
     "data": {
      "text/plain": [
       "('MDQ', 9)"
      ]
     },
     "execution_count": 19,
     "metadata": {},
     "output_type": "execute_result"
    }
   ],
   "source": [
    "#O sino puedo hacer lo siguiente para devolver los resultados ordenados\n",
    "resultado=data3.reduceByKey(lambda x , y : (x+y)).map(lambda x: (x[1],x[0])).reduce(lambda x ,y : x if x > y else y )\n",
    "resultadoRta=(resultado[1],resultado[0])\n",
    "resultadoRta"
   ]
  },
  {
   "cell_type": "code",
   "execution_count": 36,
   "metadata": {},
   "outputs": [
    {
     "data": {
      "text/plain": [
       "('MDQ', 9)"
      ]
     },
     "execution_count": 36,
     "metadata": {},
     "output_type": "execute_result"
    }
   ],
   "source": [
    "#Mas simmple sino :\n",
    "resultado2=data3.reduceByKey(lambda x , y : (x+y)).reduce(lambda x, y: x if x[1] > y[1] else y)\n",
    "resultado2"
   ]
  },
  {
   "cell_type": "code",
   "execution_count": 29,
   "metadata": {},
   "outputs": [
    {
     "data": {
      "text/plain": [
       "('AAR', 8)"
      ]
     },
     "execution_count": 29,
     "metadata": {},
     "output_type": "execute_result"
    }
   ],
   "source": [
    "#Rta B la aerolinea con mayor cantidad de vuelos\n",
    "dataB=data.map(lambda x: (x[1],1)).reduceByKey(lambda x , y : (x+y)).map(lambda x: (x[1],x[0])).reduce(lambda x ,y : x if x > y else y )\n",
    "resultadoRtaB=(dataB[1],dataB[0])\n",
    "resultadoRtaB"
   ]
  },
  {
   "cell_type": "code",
   "execution_count": 37,
   "metadata": {},
   "outputs": [
    {
     "data": {
      "text/plain": [
       "('AAR', 8)"
      ]
     },
     "execution_count": 37,
     "metadata": {},
     "output_type": "execute_result"
    }
   ],
   "source": [
    "#Mas simmple sino :\n",
    "resultadoRtaB=data.map(lambda x: (x[1],1)).reduceByKey(lambda x , y : (x+y)).reduce(lambda x, y: x if x[1] > y[1] else y)\n",
    "resultadoRtaB"
   ]
  },
  {
   "cell_type": "code",
   "execution_count": null,
   "metadata": {},
   "outputs": [],
   "source": []
  }
 ],
 "metadata": {
  "kernelspec": {
   "display_name": "Python 3",
   "language": "python",
   "name": "python3"
  },
  "language_info": {
   "codemirror_mode": {
    "name": "ipython",
    "version": 3
   },
   "file_extension": ".py",
   "mimetype": "text/x-python",
   "name": "python",
   "nbconvert_exporter": "python",
   "pygments_lexer": "ipython3",
   "version": "3.7.1"
  }
 },
 "nbformat": 4,
 "nbformat_minor": 2
}
