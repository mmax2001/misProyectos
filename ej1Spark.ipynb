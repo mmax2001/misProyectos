{
 "cells": [
  {
   "cell_type": "code",
   "execution_count": 1,
   "metadata": {},
   "outputs": [],
   "source": [
    "import pyspark\n",
    "\n",
    "try: \n",
    "    type(sc)\n",
    "except NameError:\n",
    "    sc = pyspark.SparkContext('local[*]')"
   ]
  },
  {
   "cell_type": "code",
   "execution_count": 2,
   "metadata": {},
   "outputs": [],
   "source": [
    "alumnosRDD = [\n",
    "    (79850,'7503', 9, '2019-03-07'), # (padrón, materia, nota,fecha YYYY-MM-DD)\n",
    "    (83159,'7503', 4, '2019-12-07'),\n",
    "    (79850,'7503', 9, '2019-03-07'),\n",
    "    (75890,'7503', 9, '2019-07-07'),\n",
    "    (83159,'8150', 1, '2017-02-10'),\n",
    "    (89500,'8350', 2, '2018-01-11'),\n",
    "    (89500,'7708', 5, '2017-12-28'),\n",
    "    (95898,'7502', 7, '2016-02-19'),\n",
    "    (92345,'9205', 8, '2016-05-02'),\n",
    "    (92345,'9305', 4, '2018-01-07')   \n",
    "]\n",
    "\n",
    "alumnosRDD2 = [\n",
    "    (79850,'Fulano', 'Fabian'), # (padrón, apellido, nombre)\n",
    "    (83159,'Mengano','Miguel'),\n",
    "    (75890,'Fernandez','Federico'),\n",
    "    (89500,'Lopez','Carlos'),\n",
    "    (95898,'Martinez','Martin'),\n",
    "    (92345,'Sultano','Santiago')  \n",
    "]\n"
   ]
  },
  {
   "cell_type": "code",
   "execution_count": 3,
   "metadata": {},
   "outputs": [],
   "source": [
    "data = sc.parallelize(alumnosRDD);\n",
    "data0 = sc.parallelize(alumnosRDD2)"
   ]
  },
  {
   "cell_type": "code",
   "execution_count": 4,
   "metadata": {},
   "outputs": [],
   "source": [
    "aprobadosUltimos2anios = data.filter(lambda x: (x[2] >= 4 and x[3] >='2018-01-01'))"
   ]
  },
  {
   "cell_type": "code",
   "execution_count": 5,
   "metadata": {},
   "outputs": [
    {
     "data": {
      "text/plain": [
       "[(79850, '7503', 9, '2019-03-07'),\n",
       " (83159, '7503', 4, '2019-12-07'),\n",
       " (79850, '7503', 9, '2019-03-07'),\n",
       " (75890, '7503', 9, '2019-07-07'),\n",
       " (92345, '9305', 4, '2018-01-07')]"
      ]
     },
     "execution_count": 5,
     "metadata": {},
     "output_type": "execute_result"
    }
   ],
   "source": [
    "# Respuesta pregunta 1:\n",
    "aprobadosUltimos2anios.collect()"
   ]
  },
  {
   "cell_type": "code",
   "execution_count": 6,
   "metadata": {},
   "outputs": [
    {
     "data": {
      "text/plain": [
       "[(79850, 9),\n",
       " (83159, 4),\n",
       " (79850, 9),\n",
       " (75890, 9),\n",
       " (83159, 1),\n",
       " (89500, 2),\n",
       " (89500, 5),\n",
       " (95898, 7),\n",
       " (92345, 8),\n",
       " (92345, 4)]"
      ]
     },
     "execution_count": 6,
     "metadata": {},
     "output_type": "execute_result"
    }
   ],
   "source": [
    "#Ahora necesitaria armar un RDD con el padron y la nota para poder hacer el promedio\n",
    "data2=data.map(lambda x: (x[0], x[2]))\n",
    "data2.collect()"
   ]
  },
  {
   "cell_type": "code",
   "execution_count": 7,
   "metadata": {},
   "outputs": [
    {
     "data": {
      "text/plain": [
       "[(89500, 7), (92345, 12), (79850, 18), (75890, 9), (95898, 7), (83159, 5)]"
      ]
     },
     "execution_count": 7,
     "metadata": {},
     "output_type": "execute_result"
    }
   ],
   "source": [
    "#Sumo todas las notas , luego necesitaria dividir por la cantidad de materias o notas que posee cada alumno\n",
    "data3=data2.reduceByKey(lambda x, y: x+y)\n",
    "data3.collect()"
   ]
  },
  {
   "cell_type": "code",
   "execution_count": 8,
   "metadata": {},
   "outputs": [],
   "source": [
    "#Genero entonces un RDD con padron , un 1 y la nota para luego cuando sume las notas por padron contar sumando el 1 cuantas\n",
    "#notas sume por padron\n",
    "data4=data.map(lambda x: (x[0], (1, x[2])))"
   ]
  },
  {
   "cell_type": "code",
   "execution_count": 9,
   "metadata": {},
   "outputs": [
    {
     "data": {
      "text/plain": [
       "[(79850, (1, 9)),\n",
       " (83159, (1, 4)),\n",
       " (79850, (1, 9)),\n",
       " (75890, (1, 9)),\n",
       " (83159, (1, 1)),\n",
       " (89500, (1, 2)),\n",
       " (89500, (1, 5)),\n",
       " (95898, (1, 7)),\n",
       " (92345, (1, 8)),\n",
       " (92345, (1, 4))]"
      ]
     },
     "execution_count": 9,
     "metadata": {},
     "output_type": "execute_result"
    }
   ],
   "source": [
    "data4.collect()"
   ]
  },
  {
   "cell_type": "code",
   "execution_count": 10,
   "metadata": {},
   "outputs": [
    {
     "data": {
      "text/plain": [
       "[(89500, (2, 7)),\n",
       " (92345, (2, 12)),\n",
       " (79850, (2, 18)),\n",
       " (75890, (1, 9)),\n",
       " (95898, (1, 7)),\n",
       " (83159, (2, 5))]"
      ]
     },
     "execution_count": 10,
     "metadata": {},
     "output_type": "execute_result"
    }
   ],
   "source": [
    "data5=data4.reduceByKey(lambda x, y: (x[0]+y[0],x[1]+y[1]))\n",
    "data5.collect()"
   ]
  },
  {
   "cell_type": "code",
   "execution_count": 11,
   "metadata": {},
   "outputs": [
    {
     "data": {
      "text/plain": [
       "[(89500, 3.5),\n",
       " (92345, 6.0),\n",
       " (79850, 9.0),\n",
       " (75890, 9.0),\n",
       " (95898, 7.0),\n",
       " (83159, 2.5)]"
      ]
     },
     "execution_count": 11,
     "metadata": {},
     "output_type": "execute_result"
    }
   ],
   "source": [
    "data5.map(lambda x: (x[0], x[1][1]/x[1][0])).collect()"
   ]
  },
  {
   "cell_type": "code",
   "execution_count": 14,
   "metadata": {},
   "outputs": [
    {
     "data": {
      "text/plain": [
       "[(89500, 3.5),\n",
       " (92345, 6.0),\n",
       " (79850, 9.0),\n",
       " (75890, 9.0),\n",
       " (95898, 7.0),\n",
       " (83159, 2.5)]"
      ]
     },
     "execution_count": 14,
     "metadata": {},
     "output_type": "execute_result"
    }
   ],
   "source": [
    "#En un solo paso seria asi (rta pregunta2)\n",
    "data6=data4.reduceByKey(lambda x, y: (x[0]+y[0],x[1]+y[1])).map(lambda x: (x[0], x[1][1]/x[1][0])).collect()\n",
    "data6"
   ]
  },
  {
   "cell_type": "code",
   "execution_count": 137,
   "metadata": {},
   "outputs": [
    {
     "data": {
      "text/plain": [
       "(79850, 9.0)"
      ]
     },
     "execution_count": 137,
     "metadata": {},
     "output_type": "execute_result"
    }
   ],
   "source": [
    "def getValue(item):   \n",
    "    return item[1]\n",
    "resultadoFinal=sorted(data6, key=getValue)\n",
    "padronPromedio=resultadoFinal[-1]\n",
    "padronPromedio"
   ]
  },
  {
   "cell_type": "code",
   "execution_count": 77,
   "metadata": {},
   "outputs": [
    {
     "name": "stdout",
     "output_type": "stream",
     "text": [
      "[(75890, 9.0)]\n"
     ]
    }
   ],
   "source": [
    "#Otra forma de obtener el resultado anterior\n",
    "result=data4.reduceByKey(lambda x, y: (x[0]+y[0],x[1]+y[1])).map(lambda x: (x[0], x[1][1]/x[1][0])).takeOrdered(1)\n",
    "print(result)"
   ]
  },
  {
   "cell_type": "code",
   "execution_count": 15,
   "metadata": {},
   "outputs": [
    {
     "data": {
      "text/plain": [
       "(75890, 9.0)"
      ]
     },
     "execution_count": 15,
     "metadata": {},
     "output_type": "execute_result"
    }
   ],
   "source": [
    "#O sino esta otra forma\n",
    "data7=data4.reduceByKey(lambda x, y: (x[0]+y[0],x[1]+y[1])).map(lambda x: (x[0], x[1][1]/x[1][0])).reduce(lambda x, y: x if x[1] > y[1] else y)\n",
    "data7"
   ]
  },
  {
   "cell_type": "code",
   "execution_count": 135,
   "metadata": {},
   "outputs": [
    {
     "data": {
      "text/plain": [
       "[(79850, 'Fulano', 'Fabian')]"
      ]
     },
     "execution_count": 135,
     "metadata": {},
     "output_type": "execute_result"
    }
   ],
   "source": [
    "data0.filter(lambda x:(x[0] == padronPromedio[0])).collect()"
   ]
  },
  {
   "cell_type": "code",
   "execution_count": 126,
   "metadata": {},
   "outputs": [
    {
     "data": {
      "text/plain": [
       "[(92345, ('Sultano', '9205')),\n",
       " (92345, ('Sultano', '9305')),\n",
       " (79850, ('Fulano', '7503')),\n",
       " (79850, ('Fulano', '7503')),\n",
       " (75890, ('Fernandez', '7503')),\n",
       " (95898, ('Martinez', '7502')),\n",
       " (89500, ('Lopez', '8350')),\n",
       " (89500, ('Lopez', '7708')),\n",
       " (83159, ('Mengano', '7503')),\n",
       " (83159, ('Mengano', '8150'))]"
      ]
     },
     "execution_count": 126,
     "metadata": {},
     "output_type": "execute_result"
    }
   ],
   "source": [
    "data0.join(data).collect()"
   ]
  },
  {
   "cell_type": "code",
   "execution_count": null,
   "metadata": {},
   "outputs": [],
   "source": []
  }
 ],
 "metadata": {
  "kernelspec": {
   "display_name": "Python 3",
   "language": "python",
   "name": "python3"
  },
  "language_info": {
   "codemirror_mode": {
    "name": "ipython",
    "version": 3
   },
   "file_extension": ".py",
   "mimetype": "text/x-python",
   "name": "python",
   "nbconvert_exporter": "python",
   "pygments_lexer": "ipython3",
   "version": "3.7.1"
  }
 },
 "nbformat": 4,
 "nbformat_minor": 2
}
